{
  "nbformat": 4,
  "nbformat_minor": 0,
  "metadata": {
    "colab": {
      "provenance": []
    },
    "kernelspec": {
      "name": "python3",
      "display_name": "Python 3"
    },
    "language_info": {
      "name": "python"
    }
  },
  "cells": [
    {
      "cell_type": "code",
      "source": [
        "!pip install -U scikit-learn"
      ],
      "metadata": {
        "colab": {
          "base_uri": "https://localhost:8080/"
        },
        "id": "x1eTFsUhJEM_",
        "outputId": "6c4f2dfc-5cc1-4909-ee49-ef2cc8938f4e"
      },
      "execution_count": 1,
      "outputs": [
        {
          "output_type": "stream",
          "name": "stdout",
          "text": [
            "Requirement already satisfied: scikit-learn in /usr/local/lib/python3.10/dist-packages (1.2.2)\n",
            "Collecting scikit-learn\n",
            "  Downloading scikit_learn-1.4.1.post1-cp310-cp310-manylinux_2_17_x86_64.manylinux2014_x86_64.whl (12.1 MB)\n",
            "\u001b[2K     \u001b[90m━━━━━━━━━━━━━━━━━━━━━━━━━━━━━━━━━━━━━━━━\u001b[0m \u001b[32m12.1/12.1 MB\u001b[0m \u001b[31m19.2 MB/s\u001b[0m eta \u001b[36m0:00:00\u001b[0m\n",
            "\u001b[?25hRequirement already satisfied: numpy<2.0,>=1.19.5 in /usr/local/lib/python3.10/dist-packages (from scikit-learn) (1.25.2)\n",
            "Requirement already satisfied: scipy>=1.6.0 in /usr/local/lib/python3.10/dist-packages (from scikit-learn) (1.11.4)\n",
            "Requirement already satisfied: joblib>=1.2.0 in /usr/local/lib/python3.10/dist-packages (from scikit-learn) (1.3.2)\n",
            "Requirement already satisfied: threadpoolctl>=2.0.0 in /usr/local/lib/python3.10/dist-packages (from scikit-learn) (3.4.0)\n",
            "Installing collected packages: scikit-learn\n",
            "  Attempting uninstall: scikit-learn\n",
            "    Found existing installation: scikit-learn 1.2.2\n",
            "    Uninstalling scikit-learn-1.2.2:\n",
            "      Successfully uninstalled scikit-learn-1.2.2\n",
            "Successfully installed scikit-learn-1.4.1.post1\n"
          ]
        }
      ]
    },
    {
      "cell_type": "code",
      "execution_count": 2,
      "metadata": {
        "colab": {
          "base_uri": "https://localhost:8080/"
        },
        "id": "QUjO9BCGHBv1",
        "outputId": "3d5e0280-22ea-4f8b-eae0-6b91fc95fffe"
      },
      "outputs": [
        {
          "output_type": "stream",
          "name": "stdout",
          "text": [
            "[[73 35 56 52 55]\n",
            " [84 51 83 89 85]\n",
            " [50 78 41 45 74]\n",
            " [68 96 97 60 37]\n",
            " [48 47 12 86 84]]\n"
          ]
        }
      ],
      "source": [
        "import numpy as np\n",
        "from sklearn.decomposition import NMF\n",
        "\n",
        "# Generate a random matrix A (replace this with your data)\n",
        "A = np.random.randint(10, 100, size=(5, 5))\n",
        "print(A)\n"
      ]
    },
    {
      "cell_type": "code",
      "source": [
        "\n",
        "# Initialize the NMF model\n",
        "nmf_model = NMF(n_components=5, init='random', random_state=0)\n",
        "\n",
        "# Fit the model to your data\n",
        "nmf_model.fit(A)\n",
        "\n",
        "# Get the components (H)\n",
        "H = nmf_model.components_.T"
      ],
      "metadata": {
        "id": "Wwwh1LwGI4sZ"
      },
      "execution_count": 3,
      "outputs": []
    },
    {
      "cell_type": "code",
      "source": [
        "H"
      ],
      "metadata": {
        "colab": {
          "base_uri": "https://localhost:8080/"
        },
        "id": "zNiNUz_ULMZx",
        "outputId": "018042a0-5b29-49f0-accd-a610488834e8"
      },
      "execution_count": 4,
      "outputs": [
        {
          "output_type": "execute_result",
          "data": {
            "text/plain": [
              "array([[ 3.87157886,  2.59125242,  2.21266088,  2.3002543 , 10.87129884],\n",
              "       [ 0.01152691,  4.49976886,  6.19690522,  4.00417549,  3.61251048],\n",
              "       [ 2.21042985,  4.15962709,  4.69628953,  0.        , 10.8663946 ],\n",
              "       [10.00891697,  0.        ,  1.87813074,  2.6964382 ,  0.62712473],\n",
              "       [ 7.54605652,  3.66000002,  0.        ,  3.66771796,  2.29263837]])"
            ]
          },
          "metadata": {},
          "execution_count": 4
        }
      ]
    },
    {
      "cell_type": "code",
      "source": [
        "print(H)"
      ],
      "metadata": {
        "colab": {
          "base_uri": "https://localhost:8080/"
        },
        "id": "G3LOK3RHLTrk",
        "outputId": "28d8a34e-04c2-46f9-b1b4-fab0958cd56a"
      },
      "execution_count": 5,
      "outputs": [
        {
          "output_type": "stream",
          "name": "stdout",
          "text": [
            "[[ 3.87157886  2.59125242  2.21266088  2.3002543  10.87129884]\n",
            " [ 0.01152691  4.49976886  6.19690522  4.00417549  3.61251048]\n",
            " [ 2.21042985  4.15962709  4.69628953  0.         10.8663946 ]\n",
            " [10.00891697  0.          1.87813074  2.6964382   0.62712473]\n",
            " [ 7.54605652  3.66000002  0.          3.66771796  2.29263837]]\n"
          ]
        }
      ]
    },
    {
      "cell_type": "code",
      "source": [
        "W = nmf_model.fit_transform(A)"
      ],
      "metadata": {
        "id": "_ggVWxCPLkgw"
      },
      "execution_count": 6,
      "outputs": []
    },
    {
      "cell_type": "code",
      "source": [
        "\n",
        "\n",
        " print(W)"
      ],
      "metadata": {
        "id": "EkEZLFmEMv0k",
        "outputId": "3170751b-b83d-40b1-efce-4ffa1a169c33",
        "colab": {
          "base_uri": "https://localhost:8080/"
        }
      },
      "execution_count": 7,
      "outputs": [
        {
          "output_type": "stream",
          "name": "stdout",
          "text": [
            "[[ 3.63962488  0.          0.          4.74868857  4.41357947]\n",
            " [ 7.96460896  4.14954966  2.92441298  0.66914647  3.16501893]\n",
            " [ 1.79543918  7.40037597  1.33167827  9.0972045   0.        ]\n",
            " [ 3.39559777  1.73729071 12.98918717  0.14480218  1.95730127]\n",
            " [ 5.43418036  0.          0.         11.72205424  0.        ]]\n"
          ]
        }
      ]
    },
    {
      "cell_type": "code",
      "source": [
        "import numpy as np\n",
        "X = np.array([[1, 1], [2, 1], [3, 1.2], [4, 1], [5, 0.8], [6, 1]])\n",
        "from sklearn.decomposition import NMF\n",
        "model = NMF(n_components=2, init='random', random_state=0)\n",
        "W = model.fit_transform(X)\n",
        "H = model.components_t"
      ],
      "metadata": {
        "id": "QGJzCIsmMxOs",
        "colab": {
          "base_uri": "https://localhost:8080/",
          "height": 176
        },
        "outputId": "a6383d27-b799-4ae6-a204-50a86672774e"
      },
      "execution_count": 8,
      "outputs": [
        {
          "output_type": "error",
          "ename": "AttributeError",
          "evalue": "'NMF' object has no attribute 'components_t'",
          "traceback": [
            "\u001b[0;31m---------------------------------------------------------------------------\u001b[0m",
            "\u001b[0;31mAttributeError\u001b[0m                            Traceback (most recent call last)",
            "\u001b[0;32m<ipython-input-8-d06fbcde63b8>\u001b[0m in \u001b[0;36m<cell line: 6>\u001b[0;34m()\u001b[0m\n\u001b[1;32m      4\u001b[0m \u001b[0mmodel\u001b[0m \u001b[0;34m=\u001b[0m \u001b[0mNMF\u001b[0m\u001b[0;34m(\u001b[0m\u001b[0mn_components\u001b[0m\u001b[0;34m=\u001b[0m\u001b[0;36m2\u001b[0m\u001b[0;34m,\u001b[0m \u001b[0minit\u001b[0m\u001b[0;34m=\u001b[0m\u001b[0;34m'random'\u001b[0m\u001b[0;34m,\u001b[0m \u001b[0mrandom_state\u001b[0m\u001b[0;34m=\u001b[0m\u001b[0;36m0\u001b[0m\u001b[0;34m)\u001b[0m\u001b[0;34m\u001b[0m\u001b[0;34m\u001b[0m\u001b[0m\n\u001b[1;32m      5\u001b[0m \u001b[0mW\u001b[0m \u001b[0;34m=\u001b[0m \u001b[0mmodel\u001b[0m\u001b[0;34m.\u001b[0m\u001b[0mfit_transform\u001b[0m\u001b[0;34m(\u001b[0m\u001b[0mX\u001b[0m\u001b[0;34m)\u001b[0m\u001b[0;34m\u001b[0m\u001b[0;34m\u001b[0m\u001b[0m\n\u001b[0;32m----> 6\u001b[0;31m \u001b[0mH\u001b[0m \u001b[0;34m=\u001b[0m \u001b[0mmodel\u001b[0m\u001b[0;34m.\u001b[0m\u001b[0mcomponents_t\u001b[0m\u001b[0;34m\u001b[0m\u001b[0;34m\u001b[0m\u001b[0m\n\u001b[0m",
            "\u001b[0;31mAttributeError\u001b[0m: 'NMF' object has no attribute 'components_t'"
          ]
        }
      ]
    },
    {
      "cell_type": "code",
      "source": [
        "W"
      ],
      "metadata": {
        "id": "mFX5f6hyOgz9"
      },
      "execution_count": null,
      "outputs": []
    },
    {
      "cell_type": "code",
      "source": [
        "H"
      ],
      "metadata": {
        "id": "RR6QCD_fOjD1"
      },
      "execution_count": null,
      "outputs": []
    },
    {
      "cell_type": "code",
      "source": [],
      "metadata": {
        "id": "B-jC5IzdOlJ9"
      },
      "execution_count": null,
      "outputs": []
    }
  ]
}